{
 "cells": [
  {
   "cell_type": "markdown",
   "metadata": {},
   "source": [
    "# Análise de dados do Titanic\n",
    "\n",
    "## Introdução\n",
    "\n",
    "O conjunto utilizado na análise contém dados demográficos e informações de 891 dos 2.224 passageiros e tripulantes a bordo do Titanic. Você pode ver uma descrição deste conjunto de dados no site do Kaggle https://www.kaggle.com/c/titanic/data, de onde os dados foram tirados.\n",
    "\n",
    "## Perguntas \n",
    "\n",
    "Quais o fatores que contribuiram para a maioria dos sobreviventes serem compostos de  mulheres e pessoas de altos status economicos?\n",
    "\n",
    "**1. O nível social e economico dos passageiros influenciaram nas chances de sobrevivencia?**\n",
    "\n",
    "**2. Havia mais homens ou mulheres de baixos niveis sociais e economicos entre os sobreviventes?**\n",
    "\n",
    "**3. Mulheres adultas com criancas e de alta classe social e economica sobreviveram mais do que mulheres adultas sem criancas e de baixa classe?**\n",
    "\n",
    "**4. Os passageiros que pertenciam a altas classes sociais e que sobreviveram embarcaram em qual porto?**\n",
    "\n",
    "**Suposição:** Vamos assumir que as pessoas que sobreviveram conseguiram entrar nos botes salva vidas.\n",
    "\n",
    "\n",
    "# Preparação dos Dados\n",
    "\n",
    "## Descrição dos Dados\n",
    "(fonte: https://www.kaggle.com/c/titanic/data)\n",
    "\n",
    "- **Survived:** Se sobreviveu ou não (0 = No; 1 = Yes)\n",
    "\n",
    "- **pclass:** Classe de embarque (1 = 1st; 2 = 2nd; 3 = 3rd)\n",
    "\n",
    "- **name:** Nome \n",
    "\n",
    "- **sex:** Sexo\n",
    "\n",
    "- **age:** Idade\n",
    "\n",
    "- **sibsp:** Número de irmãos ou conjuges a bordo\n",
    "\n",
    "- **parch:** Número de pais/criancas a bordo\n",
    "\n",
    "- **ticket:** Número do Ticket\n",
    "\n",
    "- **fare:** Tarifa de passageiros\n",
    "\n",
    "- **cabin:** Cabine\n",
    "\n",
    "- **embarked:** Porto de embarcação (C = Cherbourg; Q = Queenstown; S = Southampton)\n",
    "\n",
    "**Observações:**\n",
    "- Pclass foi utilizado para definir status socio econômico (1 = Alto; 2 =  Meio; 3 = Baixo)\n",
    "- O dado age(idade) está em anos; Fracionário se Idade menor que um (1). Se a Idade for Estimada, ela estará no formato xx.5\n",
    "\n",
    "\n",
    "Com relação às variáveis de relação familiar (sibsp e parch) algumas relações foram ignoradas como noivos/noivas e amantes. A seguir estão as definições usadas para sibsp e parch.\n",
    "\n",
    "\n",
    "- **Irmão:** irmão, irmã, meio irmão ou irmã-irmã do passageiro a bordo do Titanic\n",
    "- **Cônjuge:** Marido ou Esposa do Passageiro a bordo do Titanic \n",
    "- **Pais:** Mãe ou pai do passageiro a bordo do Titanic\n",
    "- **Criança:** Filho, Filha, Enteado ou Enteada do Passageiro a bordo do Titanic"
   ]
  },
  {
   "cell_type": "code",
   "execution_count": 522,
   "metadata": {
    "scrolled": true
   },
   "outputs": [
    {
     "data": {
      "text/html": [
       "<div>\n",
       "<style scoped>\n",
       "    .dataframe tbody tr th:only-of-type {\n",
       "        vertical-align: middle;\n",
       "    }\n",
       "\n",
       "    .dataframe tbody tr th {\n",
       "        vertical-align: top;\n",
       "    }\n",
       "\n",
       "    .dataframe thead th {\n",
       "        text-align: right;\n",
       "    }\n",
       "</style>\n",
       "<table border=\"1\" class=\"dataframe\">\n",
       "  <thead>\n",
       "    <tr style=\"text-align: right;\">\n",
       "      <th></th>\n",
       "      <th>PassengerId</th>\n",
       "      <th>Survived</th>\n",
       "      <th>Pclass</th>\n",
       "      <th>Name</th>\n",
       "      <th>Sex</th>\n",
       "      <th>Age</th>\n",
       "      <th>SibSp</th>\n",
       "      <th>Parch</th>\n",
       "      <th>Ticket</th>\n",
       "      <th>Fare</th>\n",
       "      <th>Cabin</th>\n",
       "      <th>Embarked</th>\n",
       "    </tr>\n",
       "  </thead>\n",
       "  <tbody>\n",
       "    <tr>\n",
       "      <th>0</th>\n",
       "      <td>1</td>\n",
       "      <td>0</td>\n",
       "      <td>3</td>\n",
       "      <td>Braund, Mr. Owen Harris</td>\n",
       "      <td>male</td>\n",
       "      <td>22.0</td>\n",
       "      <td>1</td>\n",
       "      <td>0</td>\n",
       "      <td>A/5 21171</td>\n",
       "      <td>7.2500</td>\n",
       "      <td>NaN</td>\n",
       "      <td>S</td>\n",
       "    </tr>\n",
       "    <tr>\n",
       "      <th>1</th>\n",
       "      <td>2</td>\n",
       "      <td>1</td>\n",
       "      <td>1</td>\n",
       "      <td>Cumings, Mrs. John Bradley (Florence Briggs Th...</td>\n",
       "      <td>female</td>\n",
       "      <td>38.0</td>\n",
       "      <td>1</td>\n",
       "      <td>0</td>\n",
       "      <td>PC 17599</td>\n",
       "      <td>71.2833</td>\n",
       "      <td>C85</td>\n",
       "      <td>C</td>\n",
       "    </tr>\n",
       "    <tr>\n",
       "      <th>2</th>\n",
       "      <td>3</td>\n",
       "      <td>1</td>\n",
       "      <td>3</td>\n",
       "      <td>Heikkinen, Miss. Laina</td>\n",
       "      <td>female</td>\n",
       "      <td>26.0</td>\n",
       "      <td>0</td>\n",
       "      <td>0</td>\n",
       "      <td>STON/O2. 3101282</td>\n",
       "      <td>7.9250</td>\n",
       "      <td>NaN</td>\n",
       "      <td>S</td>\n",
       "    </tr>\n",
       "    <tr>\n",
       "      <th>3</th>\n",
       "      <td>4</td>\n",
       "      <td>1</td>\n",
       "      <td>1</td>\n",
       "      <td>Futrelle, Mrs. Jacques Heath (Lily May Peel)</td>\n",
       "      <td>female</td>\n",
       "      <td>35.0</td>\n",
       "      <td>1</td>\n",
       "      <td>0</td>\n",
       "      <td>113803</td>\n",
       "      <td>53.1000</td>\n",
       "      <td>C123</td>\n",
       "      <td>S</td>\n",
       "    </tr>\n",
       "    <tr>\n",
       "      <th>4</th>\n",
       "      <td>5</td>\n",
       "      <td>0</td>\n",
       "      <td>3</td>\n",
       "      <td>Allen, Mr. William Henry</td>\n",
       "      <td>male</td>\n",
       "      <td>35.0</td>\n",
       "      <td>0</td>\n",
       "      <td>0</td>\n",
       "      <td>373450</td>\n",
       "      <td>8.0500</td>\n",
       "      <td>NaN</td>\n",
       "      <td>S</td>\n",
       "    </tr>\n",
       "  </tbody>\n",
       "</table>\n",
       "</div>"
      ],
      "text/plain": [
       "   PassengerId  Survived  Pclass  \\\n",
       "0            1         0       3   \n",
       "1            2         1       1   \n",
       "2            3         1       3   \n",
       "3            4         1       1   \n",
       "4            5         0       3   \n",
       "\n",
       "                                                Name     Sex   Age  SibSp  \\\n",
       "0                            Braund, Mr. Owen Harris    male  22.0      1   \n",
       "1  Cumings, Mrs. John Bradley (Florence Briggs Th...  female  38.0      1   \n",
       "2                             Heikkinen, Miss. Laina  female  26.0      0   \n",
       "3       Futrelle, Mrs. Jacques Heath (Lily May Peel)  female  35.0      1   \n",
       "4                           Allen, Mr. William Henry    male  35.0      0   \n",
       "\n",
       "   Parch            Ticket     Fare Cabin Embarked  \n",
       "0      0         A/5 21171   7.2500   NaN        S  \n",
       "1      0          PC 17599  71.2833   C85        C  \n",
       "2      0  STON/O2. 3101282   7.9250   NaN        S  \n",
       "3      0            113803  53.1000  C123        S  \n",
       "4      0            373450   8.0500   NaN        S  "
      ]
     },
     "execution_count": 522,
     "metadata": {},
     "output_type": "execute_result"
    }
   ],
   "source": [
    "# Importacao das bibliotecas\n",
    "%matplotlib inline\n",
    "import pandas as pd\n",
    "import numpy as np\n",
    "import matplotlib.pyplot as plt\n",
    "import seaborn as sns\n",
    "\n",
    "sns.set_style(\"dark\")\n",
    "\n",
    "# Ler o dataset e cria o dataframe que será utilizado na análise\n",
    "df = pd.read_csv('titanic-data-6.csv', sep=',')\n",
    "\n",
    "# Mostra os primeiros dados do dataframe, para análise e formatacao\n",
    "df.head()\n"
   ]
  },
  {
   "cell_type": "code",
   "execution_count": 523,
   "metadata": {
    "scrolled": true
   },
   "outputs": [
    {
     "data": {
      "text/html": [
       "<div>\n",
       "<style scoped>\n",
       "    .dataframe tbody tr th:only-of-type {\n",
       "        vertical-align: middle;\n",
       "    }\n",
       "\n",
       "    .dataframe tbody tr th {\n",
       "        vertical-align: top;\n",
       "    }\n",
       "\n",
       "    .dataframe thead th {\n",
       "        text-align: right;\n",
       "    }\n",
       "</style>\n",
       "<table border=\"1\" class=\"dataframe\">\n",
       "  <thead>\n",
       "    <tr style=\"text-align: right;\">\n",
       "      <th></th>\n",
       "      <th>PassengerId</th>\n",
       "      <th>Survived</th>\n",
       "      <th>Pclass</th>\n",
       "      <th>Name</th>\n",
       "      <th>Sex</th>\n",
       "      <th>Age</th>\n",
       "      <th>SibSp</th>\n",
       "      <th>Parch</th>\n",
       "      <th>Ticket</th>\n",
       "      <th>Fare</th>\n",
       "      <th>Cabin</th>\n",
       "      <th>Embarked</th>\n",
       "    </tr>\n",
       "  </thead>\n",
       "  <tbody>\n",
       "    <tr>\n",
       "      <th>886</th>\n",
       "      <td>887</td>\n",
       "      <td>0</td>\n",
       "      <td>2</td>\n",
       "      <td>Montvila, Rev. Juozas</td>\n",
       "      <td>male</td>\n",
       "      <td>27.0</td>\n",
       "      <td>0</td>\n",
       "      <td>0</td>\n",
       "      <td>211536</td>\n",
       "      <td>13.00</td>\n",
       "      <td>NaN</td>\n",
       "      <td>S</td>\n",
       "    </tr>\n",
       "    <tr>\n",
       "      <th>887</th>\n",
       "      <td>888</td>\n",
       "      <td>1</td>\n",
       "      <td>1</td>\n",
       "      <td>Graham, Miss. Margaret Edith</td>\n",
       "      <td>female</td>\n",
       "      <td>19.0</td>\n",
       "      <td>0</td>\n",
       "      <td>0</td>\n",
       "      <td>112053</td>\n",
       "      <td>30.00</td>\n",
       "      <td>B42</td>\n",
       "      <td>S</td>\n",
       "    </tr>\n",
       "    <tr>\n",
       "      <th>888</th>\n",
       "      <td>889</td>\n",
       "      <td>0</td>\n",
       "      <td>3</td>\n",
       "      <td>Johnston, Miss. Catherine Helen \"Carrie\"</td>\n",
       "      <td>female</td>\n",
       "      <td>NaN</td>\n",
       "      <td>1</td>\n",
       "      <td>2</td>\n",
       "      <td>W./C. 6607</td>\n",
       "      <td>23.45</td>\n",
       "      <td>NaN</td>\n",
       "      <td>S</td>\n",
       "    </tr>\n",
       "    <tr>\n",
       "      <th>889</th>\n",
       "      <td>890</td>\n",
       "      <td>1</td>\n",
       "      <td>1</td>\n",
       "      <td>Behr, Mr. Karl Howell</td>\n",
       "      <td>male</td>\n",
       "      <td>26.0</td>\n",
       "      <td>0</td>\n",
       "      <td>0</td>\n",
       "      <td>111369</td>\n",
       "      <td>30.00</td>\n",
       "      <td>C148</td>\n",
       "      <td>C</td>\n",
       "    </tr>\n",
       "    <tr>\n",
       "      <th>890</th>\n",
       "      <td>891</td>\n",
       "      <td>0</td>\n",
       "      <td>3</td>\n",
       "      <td>Dooley, Mr. Patrick</td>\n",
       "      <td>male</td>\n",
       "      <td>32.0</td>\n",
       "      <td>0</td>\n",
       "      <td>0</td>\n",
       "      <td>370376</td>\n",
       "      <td>7.75</td>\n",
       "      <td>NaN</td>\n",
       "      <td>Q</td>\n",
       "    </tr>\n",
       "  </tbody>\n",
       "</table>\n",
       "</div>"
      ],
      "text/plain": [
       "     PassengerId  Survived  Pclass                                      Name  \\\n",
       "886          887         0       2                     Montvila, Rev. Juozas   \n",
       "887          888         1       1              Graham, Miss. Margaret Edith   \n",
       "888          889         0       3  Johnston, Miss. Catherine Helen \"Carrie\"   \n",
       "889          890         1       1                     Behr, Mr. Karl Howell   \n",
       "890          891         0       3                       Dooley, Mr. Patrick   \n",
       "\n",
       "        Sex   Age  SibSp  Parch      Ticket   Fare Cabin Embarked  \n",
       "886    male  27.0      0      0      211536  13.00   NaN        S  \n",
       "887  female  19.0      0      0      112053  30.00   B42        S  \n",
       "888  female   NaN      1      2  W./C. 6607  23.45   NaN        S  \n",
       "889    male  26.0      0      0      111369  30.00  C148        C  \n",
       "890    male  32.0      0      0      370376   7.75   NaN        Q  "
      ]
     },
     "execution_count": 523,
     "metadata": {},
     "output_type": "execute_result"
    }
   ],
   "source": [
    "# Mostra os últimos registros como forma de revisar os dados e formatá-los\n",
    "df.tail()"
   ]
  },
  {
   "cell_type": "markdown",
   "metadata": {},
   "source": []
  },
  {
   "cell_type": "markdown",
   "metadata": {},
   "source": [
    "## Limpeza de Dados\n",
    "É posssivel perceber que algumas colunas estão com valores indefinidos ou possuem o valor **NaN**, como **Age** e **Cabin**. Além disso, **Cabin** e **Ticket** por serem do tipo alfanúmerico não possuem impacto na análise atual. Outras colunas que a partir da descricao de dados pude perceber que não são importantes para análise atual são **PassengerId**, **Name** e **Fare**\n",
    "A\n",
    "Assim, antes de comecar a análise irei realizar uma limpeza de dados no dataset seguindo tres abordagens que serão demonstradas a seguir: \n",
    "\n",
    "**1. Identificar e remover qualquer entrada duplicada**\n",
    "Para verificar se existiam dados duplicados no dataset executei o seguinte teste nos dados"
   ]
  },
  {
   "cell_type": "code",
   "execution_count": 524,
   "metadata": {},
   "outputs": [
    {
     "name": "stdout",
     "output_type": "stream",
     "text": [
      "A quantidade de entradas duplicadas é igual a 0\n"
     ]
    }
   ],
   "source": [
    "# Identifica dados duplicados\n",
    "data_duplicates = df.duplicated()\n",
    "print ('A quantidade de entradas duplicadas é igual a {}'.format(data_duplicates.sum()))"
   ]
  },
  {
   "cell_type": "markdown",
   "metadata": {},
   "source": [
    "Com o resultado do primeiro teste, acima pude perceber que não existiam dados duplicados no dataset, mas para ter certeza que o comando utilizado estava dando o resultado correto realizei um teste a mais."
   ]
  },
  {
   "cell_type": "code",
   "execution_count": 525,
   "metadata": {},
   "outputs": [
    {
     "name": "stdout",
     "output_type": "stream",
     "text": [
      "A quantidade de entradas duplicadas para a coluna Age é igual a 1\n"
     ]
    }
   ],
   "source": [
    "# Teste para verificar se o comando utilizado no teste anterior está retornando o resultado correto\n",
    "duplicate_test = df.duplicated('Age').head()\n",
    "print ('A quantidade de entradas duplicadas para a coluna Age é igual a {}'.format(duplicate_test.sum()))"
   ]
  },
  {
   "cell_type": "markdown",
   "metadata": {},
   "source": [
    "**Obs:** Dado o resultado do segundo teste que comprovou que o primeiro estava correto, não foi necessário remover dados duplicados.\n",
    "\n",
    "**2. Remover colunas desnecessárias**\n",
    "Para remover as colunas desnecessárias executei o comando **drop** para criar uma novo dataset que foram tratados na abordagem anteriror.\n",
    "\n",
    "**Colunas que foram removidas:**\n",
    "- ** PassengerId**\n",
    "- ** Name**\n",
    "- ** Ticket**\n",
    "- ** Cabin**\n",
    "- ** Fare**"
   ]
  },
  {
   "cell_type": "code",
   "execution_count": 526,
   "metadata": {},
   "outputs": [
    {
     "data": {
      "text/html": [
       "<div>\n",
       "<style scoped>\n",
       "    .dataframe tbody tr th:only-of-type {\n",
       "        vertical-align: middle;\n",
       "    }\n",
       "\n",
       "    .dataframe tbody tr th {\n",
       "        vertical-align: top;\n",
       "    }\n",
       "\n",
       "    .dataframe thead th {\n",
       "        text-align: right;\n",
       "    }\n",
       "</style>\n",
       "<table border=\"1\" class=\"dataframe\">\n",
       "  <thead>\n",
       "    <tr style=\"text-align: right;\">\n",
       "      <th></th>\n",
       "      <th>Survived</th>\n",
       "      <th>Pclass</th>\n",
       "      <th>Sex</th>\n",
       "      <th>Age</th>\n",
       "      <th>SibSp</th>\n",
       "      <th>Parch</th>\n",
       "      <th>Embarked</th>\n",
       "    </tr>\n",
       "  </thead>\n",
       "  <tbody>\n",
       "    <tr>\n",
       "      <th>0</th>\n",
       "      <td>0</td>\n",
       "      <td>3</td>\n",
       "      <td>male</td>\n",
       "      <td>22.0</td>\n",
       "      <td>1</td>\n",
       "      <td>0</td>\n",
       "      <td>S</td>\n",
       "    </tr>\n",
       "    <tr>\n",
       "      <th>1</th>\n",
       "      <td>1</td>\n",
       "      <td>1</td>\n",
       "      <td>female</td>\n",
       "      <td>38.0</td>\n",
       "      <td>1</td>\n",
       "      <td>0</td>\n",
       "      <td>C</td>\n",
       "    </tr>\n",
       "    <tr>\n",
       "      <th>2</th>\n",
       "      <td>1</td>\n",
       "      <td>3</td>\n",
       "      <td>female</td>\n",
       "      <td>26.0</td>\n",
       "      <td>0</td>\n",
       "      <td>0</td>\n",
       "      <td>S</td>\n",
       "    </tr>\n",
       "    <tr>\n",
       "      <th>3</th>\n",
       "      <td>1</td>\n",
       "      <td>1</td>\n",
       "      <td>female</td>\n",
       "      <td>35.0</td>\n",
       "      <td>1</td>\n",
       "      <td>0</td>\n",
       "      <td>S</td>\n",
       "    </tr>\n",
       "    <tr>\n",
       "      <th>4</th>\n",
       "      <td>0</td>\n",
       "      <td>3</td>\n",
       "      <td>male</td>\n",
       "      <td>35.0</td>\n",
       "      <td>0</td>\n",
       "      <td>0</td>\n",
       "      <td>S</td>\n",
       "    </tr>\n",
       "  </tbody>\n",
       "</table>\n",
       "</div>"
      ],
      "text/plain": [
       "   Survived  Pclass     Sex   Age  SibSp  Parch Embarked\n",
       "0         0       3    male  22.0      1      0        S\n",
       "1         1       1  female  38.0      1      0        C\n",
       "2         1       3  female  26.0      0      0        S\n",
       "3         1       1  female  35.0      1      0        S\n",
       "4         0       3    male  35.0      0      0        S"
      ]
     },
     "execution_count": 526,
     "metadata": {},
     "output_type": "execute_result"
    }
   ],
   "source": [
    "# Cria um novo dataset sem as colunas que foram removidas\n",
    "dataset_cleaned = df.drop(['PassengerId','Name','Ticket','Cabin','Fare'], axis=1)\n",
    "dataset_cleaned.head()"
   ]
  },
  {
   "cell_type": "markdown",
   "metadata": {},
   "source": [
    "**3. Arrumar o formato e dados faltando das entradas**\n",
    "\n",
    "A primeira etapa dessa abordagem é saber a quantidade de valores que estão faltando."
   ]
  },
  {
   "cell_type": "code",
   "execution_count": 527,
   "metadata": {},
   "outputs": [
    {
     "data": {
      "text/plain": [
       "Survived      0\n",
       "Pclass        0\n",
       "Sex           0\n",
       "Age         177\n",
       "SibSp         0\n",
       "Parch         0\n",
       "Embarked      2\n",
       "dtype: int64"
      ]
     },
     "execution_count": 527,
     "metadata": {},
     "output_type": "execute_result"
    }
   ],
   "source": [
    "# Calcula a quantidade de valores faltando\n",
    "dataset_cleaned.isnull().sum()"
   ]
  },
  {
   "cell_type": "markdown",
   "metadata": {},
   "source": [
    "A coluna **Age** possui 177 valores faltando, asssim se faz necessário verificar esses dados."
   ]
  },
  {
   "cell_type": "code",
   "execution_count": 528,
   "metadata": {},
   "outputs": [
    {
     "data": {
      "text/html": [
       "<div>\n",
       "<style scoped>\n",
       "    .dataframe tbody tr th:only-of-type {\n",
       "        vertical-align: middle;\n",
       "    }\n",
       "\n",
       "    .dataframe tbody tr th {\n",
       "        vertical-align: top;\n",
       "    }\n",
       "\n",
       "    .dataframe thead th {\n",
       "        text-align: right;\n",
       "    }\n",
       "</style>\n",
       "<table border=\"1\" class=\"dataframe\">\n",
       "  <thead>\n",
       "    <tr style=\"text-align: right;\">\n",
       "      <th></th>\n",
       "      <th>Survived</th>\n",
       "      <th>Pclass</th>\n",
       "      <th>Sex</th>\n",
       "      <th>Age</th>\n",
       "      <th>SibSp</th>\n",
       "      <th>Parch</th>\n",
       "      <th>Embarked</th>\n",
       "    </tr>\n",
       "  </thead>\n",
       "  <tbody>\n",
       "    <tr>\n",
       "      <th>5</th>\n",
       "      <td>0</td>\n",
       "      <td>3</td>\n",
       "      <td>male</td>\n",
       "      <td>NaN</td>\n",
       "      <td>0</td>\n",
       "      <td>0</td>\n",
       "      <td>Q</td>\n",
       "    </tr>\n",
       "    <tr>\n",
       "      <th>17</th>\n",
       "      <td>1</td>\n",
       "      <td>2</td>\n",
       "      <td>male</td>\n",
       "      <td>NaN</td>\n",
       "      <td>0</td>\n",
       "      <td>0</td>\n",
       "      <td>S</td>\n",
       "    </tr>\n",
       "    <tr>\n",
       "      <th>19</th>\n",
       "      <td>1</td>\n",
       "      <td>3</td>\n",
       "      <td>female</td>\n",
       "      <td>NaN</td>\n",
       "      <td>0</td>\n",
       "      <td>0</td>\n",
       "      <td>C</td>\n",
       "    </tr>\n",
       "    <tr>\n",
       "      <th>26</th>\n",
       "      <td>0</td>\n",
       "      <td>3</td>\n",
       "      <td>male</td>\n",
       "      <td>NaN</td>\n",
       "      <td>0</td>\n",
       "      <td>0</td>\n",
       "      <td>C</td>\n",
       "    </tr>\n",
       "    <tr>\n",
       "      <th>28</th>\n",
       "      <td>1</td>\n",
       "      <td>3</td>\n",
       "      <td>female</td>\n",
       "      <td>NaN</td>\n",
       "      <td>0</td>\n",
       "      <td>0</td>\n",
       "      <td>Q</td>\n",
       "    </tr>\n",
       "  </tbody>\n",
       "</table>\n",
       "</div>"
      ],
      "text/plain": [
       "    Survived  Pclass     Sex  Age  SibSp  Parch Embarked\n",
       "5          0       3    male  NaN      0      0        Q\n",
       "17         1       2    male  NaN      0      0        S\n",
       "19         1       3  female  NaN      0      0        C\n",
       "26         0       3    male  NaN      0      0        C\n",
       "28         1       3  female  NaN      0      0        Q"
      ]
     },
     "execution_count": 528,
     "metadata": {},
     "output_type": "execute_result"
    }
   ],
   "source": [
    "# Verificando alguns dados faltando da coluna Age\n",
    "missing_age_bool = pd.isnull(dataset_cleaned['Age'])\n",
    "dataset_cleaned[missing_age_bool].head()"
   ]
  },
  {
   "cell_type": "markdown",
   "metadata": {},
   "source": [
    "Olhando para as colunas **Sex** e **Age** pude perceber a possibilidade de dividir a análise em duas partes, onde analisaria os dados por genero dos passageiros essa estratégia pode ser observada a seguir."
   ]
  },
  {
   "cell_type": "code",
   "execution_count": 529,
   "metadata": {},
   "outputs": [
    {
     "name": "stdout",
     "output_type": "stream",
     "text": [
      "A quantidade de mulheres com dados de idade faltando é igual a 53\n"
     ]
    }
   ],
   "source": [
    "# A quantidade de mulheres com dados de idade faltando\n",
    "missing_age_female = dataset_cleaned[missing_age_bool]['Sex'] == 'female'\n",
    "print ('A quantidade de mulheres com dados de idade faltando é igual a {}'.format(missing_age_female.sum()))"
   ]
  },
  {
   "cell_type": "code",
   "execution_count": 530,
   "metadata": {},
   "outputs": [
    {
     "name": "stdout",
     "output_type": "stream",
     "text": [
      "A quantidade de homens com dados de idade faltando é igual a 124\n"
     ]
    }
   ],
   "source": [
    "# A quantidade de homens com dados de idade faltando\n",
    "missing_age_male = dataset_cleaned[missing_age_bool]['Sex'] == 'male'\n",
    "print ('A quantidade de homens com dados de idade faltando é igual a {}'.format(missing_age_male.sum()))"
   ]
  },
  {
   "cell_type": "code",
   "execution_count": 546,
   "metadata": {},
   "outputs": [
    {
     "name": "stdout",
     "output_type": "stream",
     "text": [
      "<class 'pandas.core.frame.DataFrame'>\n",
      "RangeIndex: 891 entries, 0 to 890\n",
      "Data columns (total 7 columns):\n",
      "Survived    891 non-null int64\n",
      "Pclass      891 non-null int64\n",
      "Sex         891 non-null object\n",
      "Age         714 non-null float64\n",
      "SibSp       891 non-null int64\n",
      "Parch       891 non-null int64\n",
      "Embarked    889 non-null object\n",
      "dtypes: float64(1), int64(4), object(2)\n",
      "memory usage: 48.8+ KB\n"
     ]
    }
   ],
   "source": [
    "# Anotando os tipos dos dados utilizados para cada coluna\n",
    "dataset_cleaned.info()\n"
   ]
  },
  {
   "cell_type": "markdown",
   "metadata": {},
   "source": [
    "No novo dataset criado sem as colunas desnecessárias existem 53 dados de mulheres com valores de idade faltando, isso pode de alguma forma afetar a análise da questão 4 - **Mulheres adultas com criancas sobreviveram mais do que mulheres adultas sem criancas?**, dado o fato, que pretendo considerar mulheres a partir de 18 anos. \n",
    "Em relacao as outras questoes isso não será um problema pois é bem provável que não serão considerados o fator idade para realizar a análise. "
   ]
  },
  {
   "cell_type": "markdown",
   "metadata": {},
   "source": [
    "## Pergunta 1\n",
    "\n",
    "O nível social e economico dos passageiros influenciarou nas chances de sobrevivencia?\n",
    "\n",
    "Para responder essa pergunta utilizei a coluna Pclass para definir a porcetagem de sobrevivencia por nivel social e economico."
   ]
  },
  {
   "cell_type": "code",
   "execution_count": 532,
   "metadata": {},
   "outputs": [
    {
     "name": "stdout",
     "output_type": "stream",
     "text": [
      "Pclass  Survived\n",
      "1       0            80\n",
      "        1           136\n",
      "2       0            97\n",
      "        1            87\n",
      "3       0           372\n",
      "        1           119\n",
      "dtype: int64\n",
      "Classe de embarque 1 - Porcentagem de sobrevivencia: 62.96%\n",
      "-----\n",
      "Classe de embarque 2 - Porcentagem de sobrevivencia: 47.28%\n",
      "-----\n",
      "Classe de embarque 3 - Porcentagem de sobrevivencia: 24.24%\n"
     ]
    },
    {
     "data": {
      "image/png": "[encoded data removed]",
      "text/plain": [
       "<Figure size 1036.8x432 with 3 Axes>"
      ]
     },
     "metadata": {},
     "output_type": "display_data"
    }
   ],
   "source": [
    "# Retorna a porcentagem de sobreviventes por nivel social/economico\n",
    "def survival_rate(pclass):\n",
    "    \"\"\"\n",
    "    Args:\n",
    "        pclass: class value 1,2 or 3\n",
    "    Returns:\n",
    "        survival rate as percentage.\n",
    "    \"\"\"\n",
    "    grouped_by_total = dataset_cleaned.groupby(['Pclass']).size()[pclass].astype('float')\n",
    "    grouped_by_survived= \\\n",
    "        dataset_cleaned.groupby(['Pclass','Survived']).size()[pclass,1].astype('float')\n",
    "    survived_pct = (grouped_by_survived / grouped_by_total * 100).round(2)\n",
    "    \n",
    "    return survived_pct\n",
    "\n",
    "# Pega a quantidade atual agrupada por pclass e survived\n",
    "groupedby_class_survived_size = dataset_cleaned.groupby(['Pclass','Survived']).size()\n",
    "\n",
    "# Print - agrupado por pclass e survived\n",
    "print (groupedby_class_survived_size)\n",
    "print ('Classe de embarque 1 - Porcentagem de sobrevivencia: {}%'.format(survival_rate(1)))\n",
    "print ('-----')\n",
    "print ('Classe de embarque 2 - Porcentagem de sobrevivencia: {}%'.format(survival_rate(2)))\n",
    "print ('-----')\n",
    "print ('Classe de embarque 3 - Porcentagem de sobrevivencia: {}%'.format(survival_rate(3)))\n",
    "\n",
    "\n",
    "# Gráfico - Agrupado por pclass e survived\n",
    "g = sns.factorplot(x=\"Pclass\", y=\"Survived\", col=\"Pclass\", data=dataset_cleaned, \n",
    "                   saturation=.5, kind=\"bar\", ci=None, size=6, aspect=.8)\n",
    "\n",
    "# Altera as legendas\n",
    "(g.set_axis_labels('', 'Porcentagem de Sobrevivencia')\n",
    "     .set_xticklabels([\"1\", \"2\", \"3\"])\n",
    "     .set_titles(\"Classe de Embarque {col_name}\")\n",
    "     .despine(left=True, bottom=True))\n",
    "\n",
    "titles = ['Classe de embarque 1', 'Classe de embarque 2', 'Classe de embarque 3']\n",
    "for ax, title in zip(g.axes.flat, titles):\n",
    "    ax.set_title(title)\n"
   ]
  },
  {
   "cell_type": "markdown",
   "metadata": {},
   "source": [
    "Com base nos números totais, parece que os passageiros da Classe de Embarque 3 tinham uma taxa de sobrevivência similar aos da Classe de Embarque 1, com 119 e 136 passageiros sobrevivendo, respectivamente. \n",
    "\n",
    "No entanto, olhando para as porcentagens do total de passageiros por classe e os números totais em cada classe, pode-se supor que um passageiro da Classe de Embarque 1 e 2 tiveram mais chances de sobreviver do que um passageiro da Classe de Embarque 3.\n",
    "\n",
    "Assim fica claro que o fator social e economico contribuiu sim para a taxa de sobrevivencia dos passageiros.\n",
    "\n",
    "- **Classe de embarque 1 - Porcentagem de sobrevivencia: 62.96%**\n",
    "\n",
    "- **Classe de embarque 2 - Porcentagem de sobrevivencia: 47.28%**\n",
    "\n",
    "- **Classe de embarque 3 - Porcentagem de sobrevivencia: 24.24%**\n"
   ]
  },
  {
   "cell_type": "markdown",
   "metadata": {},
   "source": [
    "## Pergunta 2\n",
    "\n",
    "Havia mais homens ou mulheres de baixos niveis sociais e economicos entre os sobreviventes?"
   ]
  },
  {
   "cell_type": "code",
   "execution_count": 533,
   "metadata": {},
   "outputs": [
    {
     "name": "stdout",
     "output_type": "stream",
     "text": [
      "Pclass  Survived  Sex   \n",
      "1       0         female      3\n",
      "                  male       77\n",
      "        1         female     91\n",
      "                  male       45\n",
      "2       0         female      6\n",
      "                  male       91\n",
      "        1         female     70\n",
      "                  male       17\n",
      "3       0         female     72\n",
      "                  male      300\n",
      "        1         female     72\n",
      "                  male       47\n",
      "dtype: int64\n",
      "---------\n",
      "Classe de embarque 3 - Porcentagem de sobrevivencia de Mulheres: 50.0%\n",
      "Classe de embarque 3 - Porcentagem de sobrevivencia de Homens: 13.54%\n",
      "---------\n",
      "Classe de embarque 3 - Total em números reais de sobrevivencia de Mulheres: 72.0\n",
      "Classe de embarque 3 - Total em números reais de sobrevivencia de Homens: 47.0\n"
     ]
    },
    {
     "data": {
      "image/png": "[encoded data removed]",
      "text/plain": [
       "<Figure size 460.8x576 with 1 Axes>"
      ]
     },
     "metadata": {},
     "output_type": "display_data"
    }
   ],
   "source": [
    "# Retorna a porcentagem de sobreviventes por nivel social/economico e genero\n",
    "def survival_rate_class_sex(pclass, sex):\n",
    "    \"\"\"\n",
    "    Args:\n",
    "        pclass: class value 3\n",
    "        sex: male or female\n",
    "    Returns:\n",
    "        survival rate as percentage.\n",
    "    \"\"\"\n",
    "    grouped_by_total = dataset_cleaned.groupby(['Pclass', 'Sex']).size()[pclass,sex].astype('float')\n",
    "    grouped_by_survived_sex = \\\n",
    "        dataset_cleaned.groupby(['Pclass','Survived','Sex']).size()[pclass,1,sex].astype('float')\n",
    "    survived_sex_pct = (grouped_by_survived_sex / grouped_by_total * 100).round(2)\n",
    "    \n",
    "    return survived_sex_pct\n",
    "\n",
    "# Retorna o total de sobreviventes por nivel social/economico e genero\n",
    "def total_survival_class_sex(pclass, sex):\n",
    "    \"\"\"\n",
    "    Args:\n",
    "        pclass: class value 3\n",
    "        sex: male or female\n",
    "    Returns:\n",
    "        survival rate as percentage.\n",
    "    \"\"\"\n",
    "    grouped_by_total = dataset_cleaned.groupby(['Pclass', 'Sex']).size()[pclass,sex].astype('float')\n",
    "    grouped_by_survived_sex = \\\n",
    "        dataset_cleaned.groupby(['Pclass','Survived','Sex']).size()[pclass,1, sex].astype('float')    \n",
    "    return grouped_by_survived_sex\n",
    "\n",
    "\n",
    "# Pega a quantidade atual agrupada por pclass, survived e genero\n",
    "groupedby_class_survived_size = dataset_cleaned.groupby(['Pclass','Survived','Sex']).size()\n",
    "\n",
    "# Print - Agrupado por pclass, survived e sex\n",
    "print (groupedby_class_survived_size)\n",
    "\n",
    "print ('---------')\n",
    "print ('Classe de embarque 3 - Porcentagem de sobrevivencia de Mulheres: {}%'.format(survival_rate_class_sex(3,'female')))\n",
    "print ('Classe de embarque 3 - Porcentagem de sobrevivencia de Homens: {}%'.format(survival_rate_class_sex(3,'male')))\n",
    "\n",
    "\n",
    "print ('---------')\n",
    "print ('Classe de embarque 3 - Total em números reais de sobrevivencia de Mulheres: {}'.format(total_survival_class_sex(3,'female')))\n",
    "print ('Classe de embarque 3 - Total em números reais de sobrevivencia de Homens: {}'.format(total_survival_class_sex(3,'male')))\n",
    "\n",
    "# Gráfico - Agrupado por pclass e survived\n",
    "g = sns.factorplot(x=\"Sex\", y=\"Survived\", col=\"Pclass\", data=dataset_cleaned[(dataset_cleaned['Pclass']==3)], \n",
    "                   saturation=.5, kind=\"bar\", ci=None, size=8, aspect=.8)\n",
    "\n",
    "# Altera as legendas\n",
    "(g.set_axis_labels('', 'Porcentagem de Sobrevivencia')\n",
    "     .set_xticklabels([\"Homem\", \"Mulher\"])\n",
    "     .set_titles(\"Classe de Embarque {col_name}\")\n",
    "     .set(ylim=(0, 1))\n",
    "     .despine(left=True, bottom=True))\n",
    "\n",
    "titles = ['Homem', 'Mulher']"
   ]
  },
  {
   "cell_type": "markdown",
   "metadata": {},
   "source": [
    "Olhando para as porcentagens de sobreviventes de passageiros por classe e genero, pode-se supor que as passageiras mulheres da Classe de Embarque 3 tiveram mais chances de sobreviver do que os passageiros homens da Classe de Embarque 3.\n",
    "\n",
    "Assim fica claro que o genero dos passageiros contribuiu sim para a taxa de sobrevivencia, não só das classes mais baixas como os da Classe de Embarque 3, mas como das outras também.\n",
    "\n",
    "Classe de embarque 3 - Porcentagem de sobrevivencia de mulheres: 50.0%\n",
    "Classe de embarque 3 - Porcentagem de sobrevivencia de homens: 13.54%"
   ]
  },
  {
   "cell_type": "markdown",
   "metadata": {},
   "source": [
    "## Pergunta 3\n",
    "Mulheres adultas com criancas e de alta classe social e economica sobreviveram mais do que mulheres adultas sem criancas e de baixa classe?\n",
    "\n",
    "**Obs:** Nessa análise foram consideradas como mulheres adultas passageiros do genero feminino e que tivessem a idade maior ou igual a 18 anos."
   ]
  },
  {
   "cell_type": "code",
   "execution_count": 534,
   "metadata": {
    "scrolled": true
   },
   "outputs": [
    {
     "data": {
      "text/html": [
       "<div>\n",
       "<style scoped>\n",
       "    .dataframe tbody tr th:only-of-type {\n",
       "        vertical-align: middle;\n",
       "    }\n",
       "\n",
       "    .dataframe tbody tr th {\n",
       "        vertical-align: top;\n",
       "    }\n",
       "\n",
       "    .dataframe thead th {\n",
       "        text-align: right;\n",
       "    }\n",
       "</style>\n",
       "<table border=\"1\" class=\"dataframe\">\n",
       "  <thead>\n",
       "    <tr style=\"text-align: right;\">\n",
       "      <th></th>\n",
       "      <th>Survived</th>\n",
       "      <th>Pclass</th>\n",
       "      <th>Sex</th>\n",
       "      <th>Age</th>\n",
       "      <th>SibSp</th>\n",
       "      <th>Parch</th>\n",
       "      <th>Embarked</th>\n",
       "    </tr>\n",
       "  </thead>\n",
       "  <tbody>\n",
       "    <tr>\n",
       "      <th>1</th>\n",
       "      <td>1</td>\n",
       "      <td>1</td>\n",
       "      <td>female</td>\n",
       "      <td>38.0</td>\n",
       "      <td>1</td>\n",
       "      <td>0</td>\n",
       "      <td>C</td>\n",
       "    </tr>\n",
       "    <tr>\n",
       "      <th>2</th>\n",
       "      <td>1</td>\n",
       "      <td>3</td>\n",
       "      <td>female</td>\n",
       "      <td>26.0</td>\n",
       "      <td>0</td>\n",
       "      <td>0</td>\n",
       "      <td>S</td>\n",
       "    </tr>\n",
       "    <tr>\n",
       "      <th>3</th>\n",
       "      <td>1</td>\n",
       "      <td>1</td>\n",
       "      <td>female</td>\n",
       "      <td>35.0</td>\n",
       "      <td>1</td>\n",
       "      <td>0</td>\n",
       "      <td>S</td>\n",
       "    </tr>\n",
       "    <tr>\n",
       "      <th>8</th>\n",
       "      <td>1</td>\n",
       "      <td>3</td>\n",
       "      <td>female</td>\n",
       "      <td>27.0</td>\n",
       "      <td>0</td>\n",
       "      <td>2</td>\n",
       "      <td>S</td>\n",
       "    </tr>\n",
       "    <tr>\n",
       "      <th>11</th>\n",
       "      <td>1</td>\n",
       "      <td>1</td>\n",
       "      <td>female</td>\n",
       "      <td>58.0</td>\n",
       "      <td>0</td>\n",
       "      <td>0</td>\n",
       "      <td>S</td>\n",
       "    </tr>\n",
       "  </tbody>\n",
       "</table>\n",
       "</div>"
      ],
      "text/plain": [
       "    Survived  Pclass     Sex   Age  SibSp  Parch Embarked\n",
       "1          1       1  female  38.0      1      0        C\n",
       "2          1       3  female  26.0      0      0        S\n",
       "3          1       1  female  35.0      1      0        S\n",
       "8          1       3  female  27.0      0      2        S\n",
       "11         1       1  female  58.0      0      0        S"
      ]
     },
     "execution_count": 534,
     "metadata": {},
     "output_type": "execute_result"
    }
   ],
   "source": [
    "# Verificando apenas os passageiros maiores de 18 anos\n",
    "data_age = dataset_cleaned.loc[(dataset_cleaned['Age'] >=18) &\n",
    "                               (dataset_cleaned['Sex'] == 'female')]\n",
    "                                \n",
    "data_age.head()"
   ]
  },
  {
   "cell_type": "code",
   "execution_count": 535,
   "metadata": {},
   "outputs": [
    {
     "data": {
      "text/html": [
       "<div>\n",
       "<style scoped>\n",
       "    .dataframe tbody tr th:only-of-type {\n",
       "        vertical-align: middle;\n",
       "    }\n",
       "\n",
       "    .dataframe tbody tr th {\n",
       "        vertical-align: top;\n",
       "    }\n",
       "\n",
       "    .dataframe thead th {\n",
       "        text-align: right;\n",
       "    }\n",
       "</style>\n",
       "<table border=\"1\" class=\"dataframe\">\n",
       "  <thead>\n",
       "    <tr style=\"text-align: right;\">\n",
       "      <th></th>\n",
       "      <th>Survived</th>\n",
       "      <th>Pclass</th>\n",
       "      <th>Sex</th>\n",
       "      <th>Age</th>\n",
       "      <th>SibSp</th>\n",
       "      <th>Parch</th>\n",
       "      <th>Embarked</th>\n",
       "    </tr>\n",
       "  </thead>\n",
       "  <tbody>\n",
       "    <tr>\n",
       "      <th>8</th>\n",
       "      <td>1</td>\n",
       "      <td>3</td>\n",
       "      <td>female</td>\n",
       "      <td>27.0</td>\n",
       "      <td>0</td>\n",
       "      <td>2</td>\n",
       "      <td>S</td>\n",
       "    </tr>\n",
       "    <tr>\n",
       "      <th>10</th>\n",
       "      <td>1</td>\n",
       "      <td>3</td>\n",
       "      <td>female</td>\n",
       "      <td>4.0</td>\n",
       "      <td>1</td>\n",
       "      <td>1</td>\n",
       "      <td>S</td>\n",
       "    </tr>\n",
       "    <tr>\n",
       "      <th>24</th>\n",
       "      <td>0</td>\n",
       "      <td>3</td>\n",
       "      <td>female</td>\n",
       "      <td>8.0</td>\n",
       "      <td>3</td>\n",
       "      <td>1</td>\n",
       "      <td>S</td>\n",
       "    </tr>\n",
       "    <tr>\n",
       "      <th>25</th>\n",
       "      <td>1</td>\n",
       "      <td>3</td>\n",
       "      <td>female</td>\n",
       "      <td>38.0</td>\n",
       "      <td>1</td>\n",
       "      <td>5</td>\n",
       "      <td>S</td>\n",
       "    </tr>\n",
       "    <tr>\n",
       "      <th>43</th>\n",
       "      <td>1</td>\n",
       "      <td>2</td>\n",
       "      <td>female</td>\n",
       "      <td>3.0</td>\n",
       "      <td>1</td>\n",
       "      <td>2</td>\n",
       "      <td>C</td>\n",
       "    </tr>\n",
       "  </tbody>\n",
       "</table>\n",
       "</div>"
      ],
      "text/plain": [
       "    Survived  Pclass     Sex   Age  SibSp  Parch Embarked\n",
       "8          1       3  female  27.0      0      2        S\n",
       "10         1       3  female   4.0      1      1        S\n",
       "24         0       3  female   8.0      3      1        S\n",
       "25         1       3  female  38.0      1      5        S\n",
       "43         1       2  female   3.0      1      2        C"
      ]
     },
     "execution_count": 535,
     "metadata": {},
     "output_type": "execute_result"
    }
   ],
   "source": [
    "# Verificando apenas passageiros do genero feminino que não possuiam filhos\n",
    "titanic_data_woman_not_parents = dataset_cleaned.loc[\n",
    "    (dataset_cleaned['Sex'] == 'female') &\n",
    "    (dataset_cleaned['Parch'] > 0)]\n",
    "\n",
    "titanic_data_woman_not_parents.head()\n"
   ]
  },
  {
   "cell_type": "code",
   "execution_count": 536,
   "metadata": {},
   "outputs": [
    {
     "data": {
      "text/html": [
       "<div>\n",
       "<style scoped>\n",
       "    .dataframe tbody tr th:only-of-type {\n",
       "        vertical-align: middle;\n",
       "    }\n",
       "\n",
       "    .dataframe tbody tr th {\n",
       "        vertical-align: top;\n",
       "    }\n",
       "\n",
       "    .dataframe thead th {\n",
       "        text-align: right;\n",
       "    }\n",
       "</style>\n",
       "<table border=\"1\" class=\"dataframe\">\n",
       "  <thead>\n",
       "    <tr style=\"text-align: right;\">\n",
       "      <th></th>\n",
       "      <th>Survived</th>\n",
       "      <th>Pclass</th>\n",
       "      <th>Sex</th>\n",
       "      <th>Age</th>\n",
       "      <th>SibSp</th>\n",
       "      <th>Parch</th>\n",
       "      <th>Embarked</th>\n",
       "    </tr>\n",
       "  </thead>\n",
       "  <tbody>\n",
       "    <tr>\n",
       "      <th>1</th>\n",
       "      <td>1</td>\n",
       "      <td>1</td>\n",
       "      <td>female</td>\n",
       "      <td>38.0</td>\n",
       "      <td>1</td>\n",
       "      <td>0</td>\n",
       "      <td>C</td>\n",
       "    </tr>\n",
       "    <tr>\n",
       "      <th>3</th>\n",
       "      <td>1</td>\n",
       "      <td>1</td>\n",
       "      <td>female</td>\n",
       "      <td>35.0</td>\n",
       "      <td>1</td>\n",
       "      <td>0</td>\n",
       "      <td>S</td>\n",
       "    </tr>\n",
       "    <tr>\n",
       "      <th>11</th>\n",
       "      <td>1</td>\n",
       "      <td>1</td>\n",
       "      <td>female</td>\n",
       "      <td>58.0</td>\n",
       "      <td>0</td>\n",
       "      <td>0</td>\n",
       "      <td>S</td>\n",
       "    </tr>\n",
       "    <tr>\n",
       "      <th>52</th>\n",
       "      <td>1</td>\n",
       "      <td>1</td>\n",
       "      <td>female</td>\n",
       "      <td>49.0</td>\n",
       "      <td>1</td>\n",
       "      <td>0</td>\n",
       "      <td>C</td>\n",
       "    </tr>\n",
       "    <tr>\n",
       "      <th>61</th>\n",
       "      <td>1</td>\n",
       "      <td>1</td>\n",
       "      <td>female</td>\n",
       "      <td>38.0</td>\n",
       "      <td>0</td>\n",
       "      <td>0</td>\n",
       "      <td>NaN</td>\n",
       "    </tr>\n",
       "  </tbody>\n",
       "</table>\n",
       "</div>"
      ],
      "text/plain": [
       "    Survived  Pclass     Sex   Age  SibSp  Parch Embarked\n",
       "1          1       1  female  38.0      1      0        C\n",
       "3          1       1  female  35.0      1      0        S\n",
       "11         1       1  female  58.0      0      0        S\n",
       "52         1       1  female  49.0      1      0        C\n",
       "61         1       1  female  38.0      0      0      NaN"
      ]
     },
     "execution_count": 536,
     "metadata": {},
     "output_type": "execute_result"
    }
   ],
   "source": [
    "# Verificando apenas passageiros do genero feminino que sobreviveram, acima dos 20 anos e que não possuiam filhos\n",
    "titanic_data_woman_parents_maybe = dataset_cleaned.loc[\n",
    "    (dataset_cleaned['Sex'] == 'female') &\n",
    "    (dataset_cleaned['Parch'] == 0) & \n",
    "    (dataset_cleaned['Age'] > 20) & \n",
    "    (dataset_cleaned['Age'] != float('NaN')) &\n",
    "    (dataset_cleaned['Survived'] == 1) &\n",
    "    (dataset_cleaned['Pclass'] == 1)]\n",
    "\n",
    "titanic_data_woman_parents_maybe.head()\n"
   ]
  },
  {
   "cell_type": "code",
   "execution_count": 537,
   "metadata": {},
   "outputs": [
    {
     "data": {
      "text/html": [
       "<div>\n",
       "<style scoped>\n",
       "    .dataframe tbody tr th:only-of-type {\n",
       "        vertical-align: middle;\n",
       "    }\n",
       "\n",
       "    .dataframe tbody tr th {\n",
       "        vertical-align: top;\n",
       "    }\n",
       "\n",
       "    .dataframe thead th {\n",
       "        text-align: right;\n",
       "    }\n",
       "</style>\n",
       "<table border=\"1\" class=\"dataframe\">\n",
       "  <thead>\n",
       "    <tr style=\"text-align: right;\">\n",
       "      <th></th>\n",
       "      <th>Survived</th>\n",
       "      <th>Pclass</th>\n",
       "      <th>Sex</th>\n",
       "      <th>Age</th>\n",
       "      <th>SibSp</th>\n",
       "      <th>Parch</th>\n",
       "      <th>Embarked</th>\n",
       "    </tr>\n",
       "  </thead>\n",
       "  <tbody>\n",
       "    <tr>\n",
       "      <th>1</th>\n",
       "      <td>1</td>\n",
       "      <td>1</td>\n",
       "      <td>female</td>\n",
       "      <td>38.0</td>\n",
       "      <td>1</td>\n",
       "      <td>0</td>\n",
       "      <td>C</td>\n",
       "    </tr>\n",
       "    <tr>\n",
       "      <th>3</th>\n",
       "      <td>1</td>\n",
       "      <td>1</td>\n",
       "      <td>female</td>\n",
       "      <td>35.0</td>\n",
       "      <td>1</td>\n",
       "      <td>0</td>\n",
       "      <td>S</td>\n",
       "    </tr>\n",
       "    <tr>\n",
       "      <th>11</th>\n",
       "      <td>1</td>\n",
       "      <td>1</td>\n",
       "      <td>female</td>\n",
       "      <td>58.0</td>\n",
       "      <td>0</td>\n",
       "      <td>0</td>\n",
       "      <td>S</td>\n",
       "    </tr>\n",
       "    <tr>\n",
       "      <th>52</th>\n",
       "      <td>1</td>\n",
       "      <td>1</td>\n",
       "      <td>female</td>\n",
       "      <td>49.0</td>\n",
       "      <td>1</td>\n",
       "      <td>0</td>\n",
       "      <td>C</td>\n",
       "    </tr>\n",
       "    <tr>\n",
       "      <th>61</th>\n",
       "      <td>1</td>\n",
       "      <td>1</td>\n",
       "      <td>female</td>\n",
       "      <td>38.0</td>\n",
       "      <td>0</td>\n",
       "      <td>0</td>\n",
       "      <td>NaN</td>\n",
       "    </tr>\n",
       "  </tbody>\n",
       "</table>\n",
       "</div>"
      ],
      "text/plain": [
       "    Survived  Pclass     Sex   Age  SibSp  Parch Embarked\n",
       "1          1       1  female  38.0      1      0        C\n",
       "3          1       1  female  35.0      1      0        S\n",
       "11         1       1  female  58.0      0      0        S\n",
       "52         1       1  female  49.0      1      0        C\n",
       "61         1       1  female  38.0      0      0      NaN"
      ]
     },
     "execution_count": 537,
     "metadata": {},
     "output_type": "execute_result"
    }
   ],
   "source": [
    "# verificando apenas passageiros do genero feminino que sobreviveram, \n",
    "# acima dos 20 anos, com possíveis filhos e que pertenciam a alta classe social\n",
    "titanic_data_woman_parents = dataset_cleaned.loc[\n",
    "    (dataset_cleaned['Sex'] == 'female') &\n",
    "    (dataset_cleaned['Parch'] > 0) & \n",
    "    (dataset_cleaned['Age'] >= 18) & \n",
    "    (dataset_cleaned['Age'] != float('NaN')) &\n",
    "    (dataset_cleaned['Survived'] == 1) &\n",
    "    (dataset_cleaned['Pclass'] == 1)]\n",
    "\n",
    "titanic_data_woman_parents_maybe.head()"
   ]
  },
  {
   "cell_type": "code",
   "execution_count": 538,
   "metadata": {},
   "outputs": [
    {
     "name": "stdout",
     "output_type": "stream",
     "text": [
      "Mulheres Sem criancas: 98.44%\n",
      "Mulheres Com um filho: 100.0%\n",
      "Mulheres Com dois filho: 84.62%\n"
     ]
    }
   ],
   "source": [
    "# Retorna a porcentagem de sobreviventes por genero, classe e quantidade de filhos\n",
    "def survival_rate_parents(pclass, sex, parch):\n",
    "    \"\"\"\n",
    "    Args:\n",
    "        pclass: class value 1\n",
    "        sex: female\n",
    "        parch: class value >= 0\n",
    "    Returns:\n",
    "        survival rate as percentage.\n",
    "    \"\"\"\n",
    "    grouped_by_total = dataset_cleaned.groupby(['Pclass', 'Sex', 'Parch']).size()[pclass,sex, parch].astype('float')\n",
    "    grouped_by_survived_sex = \\\n",
    "        dataset_cleaned.groupby(['Pclass','Survived','Sex', 'Parch']).size()[pclass,1,sex, parch].astype('float')\n",
    "    survived_sex_pct = (grouped_by_survived_sex / grouped_by_total * 100).round(2)\n",
    "    \n",
    "    return survived_sex_pct\n",
    "\n",
    "print ('Mulheres Sem criancas: {}%'.format(survival_rate_parents(1,'female', 0)))\n",
    "print ('Mulheres Com um filho: {}%'.format(survival_rate_parents(1,'female', 1)))\n",
    "print ('Mulheres Com dois filho: {}%'.format(survival_rate_parents(1,'female', 2)))"
   ]
  },
  {
   "cell_type": "markdown",
   "metadata": {},
   "source": [
    "Ao tentar realizar a análise acima, me deparei com um problema referente aos dados da coluna **Parch**. Segundo a descricao de dados, essa coluna é referente a **Número de pais/criancas a bordo**. Logo, uma mulher com idade maior ou igual a 18 anos poderia estar no navio acompanhada dos seus pais e não necessáriamente de seus filhos. Sendo assim, por falta de dados conclusivos não será possivel definir corretamente a taxa de sobrivencia entre mulheres com filhos e as sem filhos."
   ]
  },
  {
   "cell_type": "markdown",
   "metadata": {},
   "source": [
    "## Pergunta 4\n",
    "Os passageiros que pertenciam a altas classes sociais e que sobreviveram embarcaram em qual porto?"
   ]
  },
  {
   "cell_type": "code",
   "execution_count": 539,
   "metadata": {},
   "outputs": [
    {
     "data": {
      "text/plain": [
       "Survived                                                   59\n",
       "Pclass                                                     59\n",
       "Sex         femalefemalefemalemalefemalefemalemalefemalefe...\n",
       "Age                                                      1903\n",
       "SibSp                                                      28\n",
       "Parch                                                      18\n",
       "Embarked    CCCCCCCCCCCCCCCCCCCCCCCCCCCCCCCCCCCCCCCCCCCCCC...\n",
       "dtype: object"
      ]
     },
     "execution_count": 539,
     "metadata": {},
     "output_type": "execute_result"
    }
   ],
   "source": [
    "survivor_class_embarked_c = dataset_cleaned.loc[(dataset_cleaned['Pclass'] == 1) &\n",
    "                                          (dataset_cleaned['Survived'] == 1)  &\n",
    "                                          (dataset_cleaned['Embarked'] == 'C')]\n",
    "survivor_class_embarked_c.sum()\n"
   ]
  },
  {
   "cell_type": "code",
   "execution_count": 544,
   "metadata": {},
   "outputs": [
    {
     "data": {
      "text/plain": [
       "Survived         1\n",
       "Pclass           1\n",
       "Sex         female\n",
       "Age             33\n",
       "SibSp            1\n",
       "Parch            0\n",
       "Embarked         Q\n",
       "dtype: object"
      ]
     },
     "execution_count": 544,
     "metadata": {},
     "output_type": "execute_result"
    }
   ],
   "source": [
    "survivor_class_embarked_q = dataset_cleaned.loc[(dataset_cleaned['Pclass'] == 1) &\n",
    "                                          (dataset_cleaned['Survived'] == 1)  &\n",
    "                                          (dataset_cleaned['Embarked'] == 'Q')]\n",
    "survivor_class_embarked_q.sum()"
   ]
  },
  {
   "cell_type": "code",
   "execution_count": 543,
   "metadata": {},
   "outputs": [
    {
     "data": {
      "text/plain": [
       "Survived    74\n",
       "Pclass      74\n",
       "Sex         74\n",
       "Age         66\n",
       "SibSp       74\n",
       "Parch       74\n",
       "Embarked    74\n",
       "dtype: int64"
      ]
     },
     "execution_count": 543,
     "metadata": {},
     "output_type": "execute_result"
    }
   ],
   "source": [
    "survivor_class_embarked_s = dataset_cleaned.loc[(dataset_cleaned['Pclass'] == 1) &\n",
    "                                          (dataset_cleaned['Survived'] == 1)  &\n",
    "                                          (dataset_cleaned['Embarked'] == 'S')]\n",
    "survivor_class_embarked_s.count()"
   ]
  },
  {
   "cell_type": "code",
   "execution_count": 545,
   "metadata": {},
   "outputs": [
    {
     "name": "stdout",
     "output_type": "stream",
     "text": [
      "A taxa de Passageiros que embarcaram no Porto de Cherbourg foi de 25.0%\n",
      "A taxa de Passageiros que embarcaram no Porto de Queenstown foi de 1.0%\n",
      "A taxa de Passageiros que embarcaram no Porto de Southampton foi de 74.0%\n"
     ]
    },
    {
     "data": {
      "image/png": "[encoded data removed]",
      "text/plain": [
       "<Figure size 403.2x504 with 1 Axes>"
      ]
     },
     "metadata": {},
     "output_type": "display_data"
    }
   ],
   "source": [
    "def survival_rate_class_embarked(pclass, embarked):\n",
    "    \"\"\"\n",
    "    Args:\n",
    "        pclass: class value 1\n",
    "        embarked: C, Q or S\n",
    "    Returns:\n",
    "        survival rate as percentage.\n",
    "    \"\"\"\n",
    "    grouped_by_total = dataset_cleaned.groupby(['Pclass', 'Embarked']).size()[pclass, embarked].astype('float')\n",
    "    grouped_by_survived_embarked = \\\n",
    "        dataset_cleaned.groupby(['Pclass','Survived', 'Embarked']).size()[pclass, 1, embarked].astype('float')\n",
    "    survived_class_embarked_pct = (grouped_by_survived_embarked / grouped_by_total * 100).round(2)\n",
    "    \n",
    "    return grouped_by_survived_embarked\n",
    "\n",
    "print ('A taxa de Passageiros que embarcaram no Porto de Cherbourg foi de {}%'.format(survival_rate_class_embarked(3, 'C')))\n",
    "print ('A taxa de Passageiros que embarcaram no Porto de Queenstown foi de {}%'.format(survival_rate_class_embarked(1, 'Q')))\n",
    "print ('A taxa de Passageiros que embarcaram no Porto de Southampton foi de {}%'.format(survival_rate_class_embarked(1, 'S')))\n",
    "\n",
    "# Gráfico - Contagem real de passageiros sobreviventes por Pclass\n",
    "\n",
    "g = sns.factorplot('Embarked', col='Pclass', data=dataset_cleaned[(dataset_cleaned['Pclass']== 1)  &\n",
    "                                          (dataset_cleaned['Survived'] == 1) ], kind='count', size=7, aspect=.8)\n",
    "\n",
    "# Altera as legendas\n",
    "(g.set_axis_labels('Porto de Embarcacao', 'No. de Passageiros')\n",
    "    .set_xticklabels([\"Cherbourg\", \"Southampton\", \"Cherbourg\"])\n",
    "    .set_titles('{col_name}')\n",
    ")\n",
    "titles = ['', '', '']\n",
    "for ax, title in zip(g.axes.flat, titles):\n",
    "    ax.set_title(title)\n"
   ]
  },
  {
   "cell_type": "markdown",
   "metadata": {},
   "source": [
    "**Total de Passageiros sobreviventes que embarcaram no porton de Cherbourg:** 59\n",
    "\n",
    "**Total de Passageiros sobreviventes que embarcaram no porton de Southampton:** 74\n",
    "\n",
    "**Total de Passageiros sobreviventes que embarcaram no porton de Queenstown:** 1\n"
   ]
  },
  {
   "cell_type": "markdown",
   "metadata": {},
   "source": [
    "Com base na análise de dados feita acima é possível concluir que a maioria dos sobreviventes pertencentes a classe de embarque 1, embarcaram no porto de Southampton. Um motivo para o ocorrido deve-se pelo fato que o ponto de partida do Titanic  aconteceu nesse porto. Sendo assim, a maior parte das vagas da embarcacao foram ofertadas para quem estava naquele local e os restantes das vagas devem ter sido oferecidas nos demais portos."
   ]
  },
  {
   "cell_type": "markdown",
   "metadata": {},
   "source": [
    "## Conclusão"
   ]
  },
  {
   "cell_type": "markdown",
   "metadata": {},
   "source": [
    "Os resultados da análise dos dados do Titanic puderam indicar que classe e genero (principalmente se voce fosse uma mulher com posicao socioeconomica superior e pertencente a primeira classe), dariam uma melhor chance de sobrevivência quando a tragédia ocorresse no navio. A idade nessa análise não se mostrou como um fator importante. Ficou visivel também que se voce fosse um homem na terceira classe, teria menores chances de sobrevivencia do que uma mulher."
   ]
  },
  {
   "cell_type": "markdown",
   "metadata": {},
   "source": [
    "## Referências "
   ]
  },
  {
   "cell_type": "markdown",
   "metadata": {},
   "source": [
    "https://www.kaggle.com/c/titanic/data\n",
    "\n",
    "http://seaborn.pydata.org/generated/seaborn.catplot.html\n",
    "\n",
    "https://pt.wikipedia.org/wiki/RMS_Titanic "
   ]
  },
  {
   "cell_type": "code",
   "execution_count": null,
   "metadata": {},
   "outputs": [],
   "source": []
  }
 ],
 "metadata": {
  "kernelspec": {
   "display_name": "Python 3",
   "language": "python",
   "name": "python3"
  },
  "language_info": {
   "codemirror_mode": {
    "name": "ipython",
    "version": 3
   },
   "file_extension": ".py",
   "mimetype": "text/x-python",
   "name": "python",
   "nbconvert_exporter": "python",
   "pygments_lexer": "ipython3",
   "version": "3.6.5"
  }
 },
 "nbformat": 4,
 "nbformat_minor": 2
}
